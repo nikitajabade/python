{
 "cells": [
  {
   "cell_type": "code",
   "execution_count": 1,
   "id": "67f6fb33",
   "metadata": {},
   "outputs": [
    {
     "name": "stdout",
     "output_type": "stream",
     "text": [
      "Hello world\n"
     ]
    }
   ],
   "source": [
    "print(\"Hello world\")"
   ]
  },
  {
   "cell_type": "code",
   "execution_count": 2,
   "id": "defae6d8",
   "metadata": {},
   "outputs": [
    {
     "name": "stdout",
     "output_type": "stream",
     "text": [
      "Nikita\n"
     ]
    }
   ],
   "source": [
    "print(\"Nikita\")"
   ]
  },
  {
   "cell_type": "code",
   "execution_count": 3,
   "id": "9ecee85a",
   "metadata": {},
   "outputs": [
    {
     "ename": "NameError",
     "evalue": "name 'Print' is not defined",
     "output_type": "error",
     "traceback": [
      "\u001b[1;31m---------------------------------------------------------------------------\u001b[0m",
      "\u001b[1;31mNameError\u001b[0m                                 Traceback (most recent call last)",
      "\u001b[1;32m~\\AppData\\Local\\Temp\\ipykernel_6236\\4262449541.py\u001b[0m in \u001b[0;36m<module>\u001b[1;34m\u001b[0m\n\u001b[1;32m----> 1\u001b[1;33m \u001b[0mPrint\u001b[0m\u001b[1;33m(\u001b[0m\u001b[1;34m\"Nikita\"\u001b[0m\u001b[1;33m)\u001b[0m\u001b[1;33m\u001b[0m\u001b[1;33m\u001b[0m\u001b[0m\n\u001b[0m",
      "\u001b[1;31mNameError\u001b[0m: name 'Print' is not defined"
     ]
    }
   ],
   "source": [
    "Print(\"Nikita\")"
   ]
  },
  {
   "cell_type": "markdown",
   "id": "8ea9a4ba",
   "metadata": {},
   "source": [
    "### python is case-sensitive"
   ]
  },
  {
   "cell_type": "markdown",
   "id": "5dc83cbb",
   "metadata": {},
   "source": [
    "#### python is case-sensitive"
   ]
  },
  {
   "cell_type": "markdown",
   "id": "2e5d2b37",
   "metadata": {},
   "source": [
    "##### python is case-sensitive"
   ]
  },
  {
   "cell_type": "markdown",
   "id": "976903dd",
   "metadata": {},
   "source": [
    "## python is case-sensitive"
   ]
  },
  {
   "cell_type": "code",
   "execution_count": 6,
   "id": "cf6312a0",
   "metadata": {},
   "outputs": [
    {
     "ename": "NameError",
     "evalue": "name 'Nikita' is not defined",
     "output_type": "error",
     "traceback": [
      "\u001b[1;31m---------------------------------------------------------------------------\u001b[0m",
      "\u001b[1;31mNameError\u001b[0m                                 Traceback (most recent call last)",
      "\u001b[1;32m~\\AppData\\Local\\Temp\\ipykernel_6236\\212911277.py\u001b[0m in \u001b[0;36m<module>\u001b[1;34m\u001b[0m\n\u001b[1;32m----> 1\u001b[1;33m \u001b[0mprint\u001b[0m\u001b[1;33m(\u001b[0m\u001b[0mNikita\u001b[0m\u001b[1;33m)\u001b[0m\u001b[1;33m\u001b[0m\u001b[1;33m\u001b[0m\u001b[0m\n\u001b[0m",
      "\u001b[1;31mNameError\u001b[0m: name 'Nikita' is not defined"
     ]
    }
   ],
   "source": [
    "print(Nikita)"
   ]
  },
  {
   "cell_type": "code",
   "execution_count": 7,
   "id": "6c38812e",
   "metadata": {},
   "outputs": [
    {
     "name": "stdout",
     "output_type": "stream",
     "text": [
      "10\n"
     ]
    }
   ],
   "source": [
    "print(10)"
   ]
  },
  {
   "cell_type": "code",
   "execution_count": 8,
   "id": "04f152e8",
   "metadata": {},
   "outputs": [
    {
     "name": "stdout",
     "output_type": "stream",
     "text": [
      "Nikita\n"
     ]
    }
   ],
   "source": [
    "print('Nikita')"
   ]
  },
  {
   "cell_type": "markdown",
   "id": "0a16b796",
   "metadata": {},
   "source": [
    "#### string(text) should be in inverted comma"
   ]
  },
  {
   "cell_type": "markdown",
   "id": "b0f4e105",
   "metadata": {},
   "source": [
    "### Shortcut keys"
   ]
  },
  {
   "cell_type": "markdown",
   "id": "2feef3fa",
   "metadata": {},
   "source": [
    "##### Run-> shift+Enter\n",
    "##### Add acell above->a\n",
    "##### Add acell below->b\n",
    "##### Delete a cell->x"
   ]
  },
  {
   "cell_type": "code",
   "execution_count": 11,
   "id": "07373263",
   "metadata": {},
   "outputs": [
    {
     "data": {
      "text/plain": [
       "int"
      ]
     },
     "execution_count": 11,
     "metadata": {},
     "output_type": "execute_result"
    }
   ],
   "source": [
    "x=10\n",
    "type(x)"
   ]
  },
  {
   "cell_type": "code",
   "execution_count": 12,
   "id": "67014863",
   "metadata": {},
   "outputs": [
    {
     "data": {
      "text/plain": [
       "float"
      ]
     },
     "execution_count": 12,
     "metadata": {},
     "output_type": "execute_result"
    }
   ],
   "source": [
    "x=0.5\n",
    "type(x)"
   ]
  },
  {
   "cell_type": "code",
   "execution_count": 13,
   "id": "3fb91c66",
   "metadata": {},
   "outputs": [
    {
     "data": {
      "text/plain": [
       "str"
      ]
     },
     "execution_count": 13,
     "metadata": {},
     "output_type": "execute_result"
    }
   ],
   "source": [
    "course=\"Data science\"\n",
    "type(course)"
   ]
  },
  {
   "cell_type": "markdown",
   "id": "0397906a",
   "metadata": {},
   "source": [
    "### variables"
   ]
  },
  {
   "cell_type": "code",
   "execution_count": 14,
   "id": "f35ad74b",
   "metadata": {},
   "outputs": [
    {
     "data": {
      "text/plain": [
       "('DS', 'AI', 'ML')"
      ]
     },
     "execution_count": 14,
     "metadata": {},
     "output_type": "execute_result"
    }
   ],
   "source": [
    "coursenames=\"DS\",\"AI\",\"ML\"\n",
    "coursenames"
   ]
  },
  {
   "cell_type": "code",
   "execution_count": 18,
   "id": "3ee09472",
   "metadata": {},
   "outputs": [
    {
     "ename": "SyntaxError",
     "evalue": "cannot assign to operator (1071691786.py, line 1)",
     "output_type": "error",
     "traceback": [
      "\u001b[1;36m  File \u001b[1;32m\"C:\\Users\\Nikita\\AppData\\Local\\Temp\\ipykernel_6236\\1071691786.py\"\u001b[1;36m, line \u001b[1;32m1\u001b[0m\n\u001b[1;33m    course-name=\"DS\",\"AI\"\u001b[0m\n\u001b[1;37m    ^\u001b[0m\n\u001b[1;31mSyntaxError\u001b[0m\u001b[1;31m:\u001b[0m cannot assign to operator\n"
     ]
    }
   ],
   "source": [
    "course-name=\"DS\",\"AI\"\n",
    "course-name"
   ]
  },
  {
   "cell_type": "code",
   "execution_count": 19,
   "id": "84d092cf",
   "metadata": {},
   "outputs": [
    {
     "ename": "SyntaxError",
     "evalue": "invalid syntax (1539956662.py, line 1)",
     "output_type": "error",
     "traceback": [
      "\u001b[1;36m  File \u001b[1;32m\"C:\\Users\\Nikita\\AppData\\Local\\Temp\\ipykernel_6236\\1539956662.py\"\u001b[1;36m, line \u001b[1;32m1\u001b[0m\n\u001b[1;33m    3coursenames=\"DS\",\"AI\"\u001b[0m\n\u001b[1;37m     ^\u001b[0m\n\u001b[1;31mSyntaxError\u001b[0m\u001b[1;31m:\u001b[0m invalid syntax\n"
     ]
    }
   ],
   "source": [
    "3coursenames=\"DS\",\"AI\"\n",
    "3coursenames"
   ]
  },
  {
   "cell_type": "code",
   "execution_count": 20,
   "id": "3ca6083d",
   "metadata": {},
   "outputs": [
    {
     "data": {
      "text/plain": [
       "('DS', 'AI', 'ML')"
      ]
     },
     "execution_count": 20,
     "metadata": {},
     "output_type": "execute_result"
    }
   ],
   "source": [
    "c3oursenames=\"DS\",\"AI\",\"ML\"\n",
    "c3oursenames"
   ]
  },
  {
   "cell_type": "code",
   "execution_count": 21,
   "id": "274dbe0a",
   "metadata": {},
   "outputs": [
    {
     "data": {
      "text/plain": [
       "('DS', 'AI')"
      ]
     },
     "execution_count": 21,
     "metadata": {},
     "output_type": "execute_result"
    }
   ],
   "source": [
    "course_name=\"DS\",\"AI\"\n",
    "course_name"
   ]
  },
  {
   "cell_type": "code",
   "execution_count": null,
   "id": "dfb54f6b",
   "metadata": {},
   "outputs": [],
   "source": [
    "##### space is not allowed"
   ]
  }
 ],
 "metadata": {
  "kernelspec": {
   "display_name": "Python 3 (ipykernel)",
   "language": "python",
   "name": "python3"
  },
  "language_info": {
   "codemirror_mode": {
    "name": "ipython",
    "version": 3
   },
   "file_extension": ".py",
   "mimetype": "text/x-python",
   "name": "python",
   "nbconvert_exporter": "python",
   "pygments_lexer": "ipython3",
   "version": "3.9.13"
  }
 },
 "nbformat": 4,
 "nbformat_minor": 5
}
